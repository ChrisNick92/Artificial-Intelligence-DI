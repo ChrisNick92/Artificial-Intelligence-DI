{
 "cells": [
  {
   "cell_type": "code",
   "execution_count": 1,
   "metadata": {},
   "outputs": [],
   "source": [
    "from priorityQueue import PriorityQueue as q\n",
    "from priorityQueue import PQSort as qsort\n",
    "from priorityQueue import test_sorting\n",
    "import random"
   ]
  },
  {
   "cell_type": "code",
   "execution_count": 4,
   "metadata": {},
   "outputs": [],
   "source": [
    "START = 0\n",
    "END = 10000000\n",
    "K = 2000000\n",
    "test = {\"START\":START, \"END\": END, \"K\": K}"
   ]
  },
  {
   "cell_type": "code",
   "execution_count": 5,
   "metadata": {},
   "outputs": [
    {
     "name": "stdout",
     "output_type": "stream",
     "text": [
      "-----> Performing a sorting test <-----\n",
      "- Selecting 2000000 random integer values from the interval [0,10000000]\n",
      "- Sorting...\n",
      "- Sorting completed successfully...\n",
      "- Time Results: Custom implementation: 11.4206 secs, Python implementation: 1.7770 secs\n"
     ]
    }
   ],
   "source": [
    "test_sorting(test)"
   ]
  }
 ],
 "metadata": {
  "kernelspec": {
   "display_name": "Python 3.6.13 ('ai_venv')",
   "language": "python",
   "name": "python3"
  },
  "language_info": {
   "codemirror_mode": {
    "name": "ipython",
    "version": 3
   },
   "file_extension": ".py",
   "mimetype": "text/x-python",
   "name": "python",
   "nbconvert_exporter": "python",
   "pygments_lexer": "ipython3",
   "version": "3.6.13"
  },
  "orig_nbformat": 4,
  "vscode": {
   "interpreter": {
    "hash": "0a88a423b00d849893cd0f1bfc66944a216b3fbef5a36e2d650f471bd369e549"
   }
  }
 },
 "nbformat": 4,
 "nbformat_minor": 2
}
